{
 "cells": [
  {
   "cell_type": "code",
   "execution_count": 60,
   "id": "6866b9f7-b8cf-4ad1-9f5f-21386773a13c",
   "metadata": {},
   "outputs": [],
   "source": [
    "###########################################\n",
    "# ✅ EMOTION DETECTION PIPELINE - FIXED\n",
    "# Dataset: dair-ai/emotion (HuggingFace)\n",
    "# Model: LSTM + GloVe Embedding (Trainable)\n",
    "###########################################\n",
    "\n",
    "# 📦 Install required packages before running:\n",
    "# pip install datasets tensorflow numpy matplotlib\n",
    "\n",
    "from datasets import load_dataset\n",
    "import numpy as np\n",
    "import tensorflow as tf\n",
    "import matplotlib.pyplot as plt\n",
    "from collections import Counter\n",
    "from tensorflow.keras.preprocessing.text import Tokenizer\n",
    "from tensorflow.keras.preprocessing.sequence import pad_sequences\n",
    "from tensorflow.keras.models import Sequential\n",
    "from tensorflow.keras.layers import Embedding, LSTM, Dense, Dropout\n",
    "from tensorflow.keras.callbacks import EarlyStopping\n",
    "import pickle"
   ]
  },
  {
   "cell_type": "code",
   "execution_count": 61,
   "id": "6187a1c0-bdbe-476e-ae88-2719f8ff16ee",
   "metadata": {},
   "outputs": [
    {
     "name": "stdout",
     "output_type": "stream",
     "text": [
      "\n",
      "📥 Loading dataset...\n"
     ]
    }
   ],
   "source": [
    "# ✅ STEP 1: Load Emotion Dataset\n",
    "print(\"\\n📥 Loading dataset...\")\n",
    "dataset = load_dataset(\"dair-ai/emotion\")\n",
    "train_ds, val_ds, test_ds = dataset[\"train\"], dataset[\"validation\"], dataset[\"test\"]\n",
    "label_names = dataset[\"train\"].features[\"label\"].names\n",
    "num_classes = len(label_names)"
   ]
  },
  {
   "cell_type": "code",
   "execution_count": 62,
   "id": "6c47183e-fdd5-459c-b649-63d27186fb61",
   "metadata": {},
   "outputs": [
    {
     "name": "stdout",
     "output_type": "stream",
     "text": [
      "\n",
      "📊 Visualizing label distribution...\n"
     ]
    },
    {
     "data": {
      "image/png": "[encoded data removed]",
      "text/plain": [
       "<Figure size 640x480 with 1 Axes>"
      ]
     },
     "metadata": {},
     "output_type": "display_data"
    }
   ],
   "source": [
    "# ✅ STEP 2: Visualize Emotion Distribution\n",
    "print(\"\\n📊 Visualizing label distribution...\")\n",
    "labels = [label_names[ex[\"label\"]] for ex in train_ds]\n",
    "count = Counter(labels)\n",
    "plt.bar(count.keys(), count.values())\n",
    "plt.title(\"Emotion Distribution\")\n",
    "plt.xticks(rotation=45)\n",
    "plt.grid(True)\n",
    "plt.show()"
   ]
  },
  {
   "cell_type": "code",
   "execution_count": 63,
   "id": "866b3b8f-94eb-4c3c-b192-390b02875d71",
   "metadata": {},
   "outputs": [
    {
     "name": "stdout",
     "output_type": "stream",
     "text": [
      "\n",
      "🔠 Preprocessing text...\n"
     ]
    }
   ],
   "source": [
    "# ✅ STEP 3: Tokenize Text and Prepare Data\n",
    "print(\"\\n🔠 Preprocessing text...\")\n",
    "\n",
    "texts = [ex[\"text\"] for ex in train_ds]\n",
    "y_train = [ex[\"label\"] for ex in train_ds]\n",
    "y_val = [ex[\"label\"] for ex in val_ds]\n",
    "y_test = [ex[\"label\"] for ex in test_ds]\n",
    "\n",
    "tokenizer = Tokenizer(oov_token=\"<OOV>\")\n",
    "tokenizer.fit_on_texts(texts)\n",
    "\n",
    "x_train_seq = tokenizer.texts_to_sequences([ex[\"text\"] for ex in train_ds])\n",
    "x_val_seq = tokenizer.texts_to_sequences([ex[\"text\"] for ex in val_ds])\n",
    "x_test_seq = tokenizer.texts_to_sequences([ex[\"text\"] for ex in test_ds])\n",
    "\n",
    "max_len = 50\n",
    "x_train = pad_sequences(x_train_seq, maxlen=max_len, padding=\"post\")\n",
    "x_val = pad_sequences(x_val_seq, maxlen=max_len, padding=\"post\")\n",
    "x_test = pad_sequences(x_test_seq, maxlen=max_len, padding=\"post\")\n",
    "\n",
    "vocab_size = len(tokenizer.word_index) + 1"
   ]
  },
  {
   "cell_type": "code",
   "execution_count": 64,
   "id": "455eefbd-68e9-4255-a13b-46ef4573e04b",
   "metadata": {},
   "outputs": [
    {
     "name": "stdout",
     "output_type": "stream",
     "text": [
      "\n",
      "🔠 Tokenizing text...\n"
     ]
    }
   ],
   "source": [
    "# ✅ STEP 3: Preprocess Text (Tokenization + Padding)\n",
    "\n",
    "print(\"\\n🔠 Tokenizing text...\")\n",
    "\n",
    "# 📄 Extract raw text from training dataset (used to fit tokenizer)\n",
    "texts = [ex[\"text\"] for ex in train_ds]\n",
    "\n",
    "# 🎯 Extract labels (targets) from each dataset\n",
    "y_train = [ex[\"label\"] for ex in train_ds]\n",
    "y_val = [ex[\"label\"] for ex in val_ds]\n",
    "y_test = [ex[\"label\"] for ex in test_ds]\n"
   ]
  },
  {
   "cell_type": "code",
   "execution_count": null,
   "id": "bb54dd78-463d-496d-8602-0e99f782f59c",
   "metadata": {},
   "outputs": [
    {
     "name": "stdout",
     "output_type": "stream",
     "text": [
      "\n",
      "📦 Loading GloVe embeddings...\n"
     ]
    }
   ],
   "source": [
    "# ✅ STEP 4: Load GloVe Embeddings\n",
    "print(\"\\n📦 Loading GloVe embeddings...\")\n",
    "embedding_dim = 100\n",
    "glove_embeddings = {}\n",
    "\n",
    "with open(\"glove.6B.100d.txt\", encoding='utf-8') as f:\n",
    "    for line in f:\n",
    "        parts = line.split()\n",
    "        word = parts[0]\n",
    "        vec = np.asarray(parts[1:], dtype=\"float32\")\n",
    "        glove_embeddings[word] = vec\n",
    "\n",
    "embedding_matrix = np.zeros((vocab_size, embedding_dim))\n",
    "for word, i in tokenizer.word_index.items():\n",
    "    vec = glove_embeddings.get(word)\n",
    "    if vec is not None:\n",
    "        embedding_matrix[i] = vec"
   ]
  },
  {
   "cell_type": "code",
   "execution_count": null,
   "id": "c73463bb-54ec-4be0-aafc-a273c74252e7",
   "metadata": {},
   "outputs": [],
   "source": [
    "# ✅ STEP 5: Build the Model\n",
    "print(\"\\n🧠 Building LSTM model...\")\n",
    "\n",
    "model = Sequential([\n",
    "    Embedding(input_dim=vocab_size,\n",
    "              output_dim=embedding_dim,\n",
    "              weights=[embedding_matrix],\n",
    "              input_length=max_len,\n",
    "              trainable=True),  # Make trainable!\n",
    "    LSTM(128, return_sequences=False),\n",
    "    Dropout(0.3),\n",
    "    Dense(64, activation='relu'),\n",
    "    Dropout(0.3),\n",
    "    Dense(num_classes, activation='softmax')\n",
    "])\n",
    "model.compile(optimizer='adam', loss='sparse_categorical_crossentropy', metrics=['accuracy'])\n",
    "model.summary()"
   ]
  },
  {
   "cell_type": "code",
   "execution_count": 59,
   "id": "62c703e0-9afa-41f1-afd3-727831e2777c",
   "metadata": {},
   "outputs": [
    {
     "name": "stdout",
     "output_type": "stream",
     "text": [
      "\n",
      "🚀 Training model...\n"
     ]
    },
    {
     "ename": "NameError",
     "evalue": "name 'EarlyStopping' is not defined",
     "output_type": "error",
     "traceback": [
      "\u001b[1;31m---------------------------------------------------------------------------\u001b[0m",
      "\u001b[1;31mNameError\u001b[0m                                 Traceback (most recent call last)",
      "Cell \u001b[1;32mIn[59], line 3\u001b[0m\n\u001b[0;32m      1\u001b[0m \u001b[38;5;66;03m# ✅ STEP 6: Train the Model\u001b[39;00m\n\u001b[0;32m      2\u001b[0m \u001b[38;5;28mprint\u001b[39m(\u001b[38;5;124m\"\u001b[39m\u001b[38;5;130;01m\\n\u001b[39;00m\u001b[38;5;124m🚀 Training model...\u001b[39m\u001b[38;5;124m\"\u001b[39m)\n\u001b[1;32m----> 3\u001b[0m early_stop \u001b[38;5;241m=\u001b[39m \u001b[43mEarlyStopping\u001b[49m(monitor\u001b[38;5;241m=\u001b[39m\u001b[38;5;124m'\u001b[39m\u001b[38;5;124mval_loss\u001b[39m\u001b[38;5;124m'\u001b[39m, patience\u001b[38;5;241m=\u001b[39m\u001b[38;5;241m3\u001b[39m, restore_best_weights\u001b[38;5;241m=\u001b[39m\u001b[38;5;28;01mTrue\u001b[39;00m)\n\u001b[0;32m      5\u001b[0m history \u001b[38;5;241m=\u001b[39m model\u001b[38;5;241m.\u001b[39mfit(x_train, np\u001b[38;5;241m.\u001b[39marray(y_train),\n\u001b[0;32m      6\u001b[0m                     validation_data\u001b[38;5;241m=\u001b[39m(x_val, np\u001b[38;5;241m.\u001b[39marray(y_val)),\n\u001b[0;32m      7\u001b[0m                     epochs\u001b[38;5;241m=\u001b[39m\u001b[38;5;241m20\u001b[39m,\n\u001b[0;32m      8\u001b[0m                     batch_size\u001b[38;5;241m=\u001b[39m\u001b[38;5;241m64\u001b[39m,\n\u001b[0;32m      9\u001b[0m                     callbacks\u001b[38;5;241m=\u001b[39m[early_stop])\n",
      "\u001b[1;31mNameError\u001b[0m: name 'EarlyStopping' is not defined"
     ]
    }
   ],
   "source": [
    "# ✅ STEP 6: Train the Model\n",
    "print(\"\\n🚀 Training model...\")\n",
    "early_stop = EarlyStopping(monitor='val_loss', patience=3, restore_best_weights=True)\n",
    "\n",
    "history = model.fit(x_train, np.array(y_train),\n",
    "                    validation_data=(x_val, np.array(y_val)),\n",
    "                    epochs=20,\n",
    "                    batch_size=64,\n",
    "                    callbacks=[early_stop])"
   ]
  },
  {
   "cell_type": "code",
   "execution_count": 72,
   "id": "cba82d50-b373-49f8-b73b-8810ddf4d694",
   "metadata": {},
   "outputs": [
    {
     "name": "stdout",
     "output_type": "stream",
     "text": [
      "\n",
      "🚀 Training...\n",
      "Epoch 1/5\n",
      "\u001b[1m250/250\u001b[0m \u001b[32m━━━━━━━━━━━━━━━━━━━━\u001b[0m\u001b[37m\u001b[0m \u001b[1m12s\u001b[0m 46ms/step - accuracy: 0.5637 - loss: 1.1562 - val_accuracy: 0.5695 - val_loss: 1.0989\n",
      "Epoch 2/5\n",
      "\u001b[1m250/250\u001b[0m \u001b[32m━━━━━━━━━━━━━━━━━━━━\u001b[0m\u001b[37m\u001b[0m \u001b[1m11s\u001b[0m 42ms/step - accuracy: 0.5742 - loss: 1.1006 - val_accuracy: 0.5950 - val_loss: 1.0383\n",
      "Epoch 3/5\n",
      "\u001b[1m250/250\u001b[0m \u001b[32m━━━━━━━━━━━━━━━━━━━━\u001b[0m\u001b[37m\u001b[0m \u001b[1m14s\u001b[0m 54ms/step - accuracy: 0.6155 - loss: 1.0024 - val_accuracy: 0.7100 - val_loss: 0.7881\n",
      "Epoch 4/5\n",
      "\u001b[1m250/250\u001b[0m \u001b[32m━━━━━━━━━━━━━━━━━━━━\u001b[0m\u001b[37m\u001b[0m \u001b[1m13s\u001b[0m 51ms/step - accuracy: 0.7404 - loss: 0.7380 - val_accuracy: 0.7825 - val_loss: 0.6367\n",
      "Epoch 5/5\n",
      "\u001b[1m250/250\u001b[0m \u001b[32m━━━━━━━━━━━━━━━━━━━━\u001b[0m\u001b[37m\u001b[0m \u001b[1m14s\u001b[0m 56ms/step - accuracy: 0.8178 - loss: 0.5523 - val_accuracy: 0.8310 - val_loss: 0.5133\n",
      "\n",
      "📊 Evaluating on test set:\n",
      "\u001b[1m63/63\u001b[0m \u001b[32m━━━━━━━━━━━━━━━━━━━━\u001b[0m\u001b[37m\u001b[0m \u001b[1m1s\u001b[0m 17ms/step - accuracy: 0.8368 - loss: 0.4933\n"
     ]
    },
    {
     "name": "stderr",
     "output_type": "stream",
     "text": [
      "WARNING:absl:You are saving your model as an HDF5 file via `model.save()` or `keras.saving.save_model(model)`. This file format is considered legacy. We recommend using instead the native Keras format, e.g. `model.save('my_model.keras')` or `keras.saving.save_model(model, 'my_model.keras')`. \n"
     ]
    },
    {
     "name": "stdout",
     "output_type": "stream",
     "text": [
      "Test Accuracy: 0.84\n"
     ]
    }
   ],
   "source": []
  },
  {
   "cell_type": "code",
   "execution_count": 75,
   "id": "2a53cd2b-18d4-41e9-9a71-9492d5ef6e92",
   "metadata": {},
   "outputs": [
    {
     "name": "stderr",
     "output_type": "stream",
     "text": [
      "WARNING:absl:You are saving your model as an HDF5 file via `model.save()` or `keras.saving.save_model(model)`. This file format is considered legacy. We recommend using instead the native Keras format, e.g. `model.save('my_model.keras')` or `keras.saving.save_model(model, 'my_model.keras')`. \n"
     ]
    }
   ],
   "source": []
  },
  {
   "cell_type": "code",
   "execution_count": null,
   "id": "eccd94de-c840-4d41-b2a5-6247852cab13",
   "metadata": {},
   "outputs": [],
   "source": [
    "# ✅ Predict a sample\n",
    "def predict_emotion(text):\n",
    "    seq = tokenizer.texts_to_sequences([text])\n",
    "    padded = pad_sequences(seq, maxlen=max_len)\n",
    "    pred = model.predict(padded)[0]\n",
    "    label = label_names[np.argmax(pred)]\n",
    "    print(f\"\\n📝 Text: {text}\\n🎭 Predicted Emotion: {label} (Confidence: {np.max(pred):.2f})\")\n",
    "\n",
    "# Try prediction\n",
    "predict_emotion(\"I am so happy and excited today!\")\n",
    "predict_emotion(\"This is the worst day ever, I am angry!\")\n"
   ]
  },
  {
   "cell_type": "code",
   "execution_count": null,
   "id": "4eb5d1c2-f242-48f6-ab51-0d461901f953",
   "metadata": {},
   "outputs": [],
   "source": [
    "# | Step | Description                           |\n",
    "# | ---- | ------------------------------------- |\n",
    "# | 1    | Load & explore labeled tweets dataset |\n",
    "# | 2    | Tokenize words → integers             |\n",
    "# | 3    | Load GloVe embeddings (100D)          |\n",
    "# | 4    | Build embedding matrix                |\n",
    "# | 5    | Create LSTM model using embeddings    |\n",
    "# | 6    | Train & evaluate                      |\n",
    "# | 7    | Predict emotion from any new text     |\n"
   ]
  },
  {
   "cell_type": "code",
   "execution_count": 57,
   "id": "d7a9b9da-0d93-4306-a650-e4475b2bc663",
   "metadata": {},
   "outputs": [
    {
     "ename": "SyntaxError",
     "evalue": "invalid syntax (2473639437.py, line 1)",
     "output_type": "error",
     "traceback": [
      "\u001b[1;36m  Cell \u001b[1;32mIn[57], line 1\u001b[1;36m\u001b[0m\n\u001b[1;33m    Step 1: Load Dataset\u001b[0m\n\u001b[1;37m         ^\u001b[0m\n\u001b[1;31mSyntaxError\u001b[0m\u001b[1;31m:\u001b[0m invalid syntax\n"
     ]
    }
   ],
   "source": [
    "#  Step 1: Load Dataset\n",
    "# dataset = load_dataset(\"dair-ai/emotion\")\n",
    "# train_ds, val_ds, test_ds = dataset[\"train\"], dataset[\"validation\"], dataset[\"test\"]\n",
    "# We load a dataset of tweets labeled with 6 emotions:\n",
    "\n",
    "# 'sadness', 'joy', 'love', 'anger', 'fear', 'surprise'\n",
    "\n",
    "# It returns 3 parts: train_ds, val_ds, test_ds (for training, validation, and testing)\n",
    "\n",
    "# 📌 Example sample:\n",
    "# {'text': \"i'm feeling quite sad and depressed\", 'label': 0}\n",
    "\n",
    "#     🔹 Step 2: Explore the Dataset\n",
    "# labels = [label_names[ex[\"label\"]] for ex in train_ds]\n",
    "# Extracts the label names from all training samples.\n",
    "\n",
    "# Then uses Counter() + matplotlib to plot the distribution of emotions.\n",
    "\n",
    "# 📊 Helps you know how balanced the dataset is.\n",
    "\n",
    "#     🔹 Step 3: Tokenize and Pad Texts\n",
    "# tokenizer = Tokenizer(oov_token=\"<OOV>\")\n",
    "# tokenizer.fit_on_texts(texts)\n",
    "# Creates a word-to-index mapping:\n",
    "# e.g., \"happy\" → 57, \"love\" → 89\n",
    "\n",
    "# <OOV> means \"out of vocabulary\" — used for unknown words\n",
    "\n",
    "# Then we convert text to sequences of numbers:\n",
    "# x_train_seq = tokenizer.texts_to_sequences(...)\n",
    "# x_train = pad_sequences(x_train_seq, maxlen=50)\n",
    "# Converts:\n",
    "# \"I am sad today\" → [1, 6, 57, 22] → [1, 6, 57, 22, 0, 0, ..., 0] (padded to 50)\n",
    "# This ensures all input texts are same length for training\n",
    "# Step 4: Load GloVe Word Embeddings\n",
    "# with open(\"glove.6B.100d.txt\") as f:\n",
    "#     glove_embeddings[word] = vector\n",
    "\n",
    "# Loads 400,000 English words, each mapped to a 100-dimensional vector\n",
    "\n",
    "# Example:\n",
    "# \"happy\" → [0.12, -0.44, ..., 0.27]\n",
    "# These vectors capture meaning and relationships between words\n",
    "# Step 5: Build the Embedding Matrix\n",
    "# embedding_matrix = np.zeros((vocab_size, 100))\n",
    "# for word, i in tokenizer.word_index.items():\n",
    "#     embedding_matrix[i] = glove_embeddings.get(word)\n",
    "\n",
    "# Maps each word in our dataset to its GloVe vector\n",
    "\n",
    "# If GloVe has no vector, it stays as zeros\n",
    "\n",
    "# 📘 Why? So our model uses semantic meaning of words from the start, instead of learning them from scratch.\n",
    "\n",
    "# 🔹 Step 6: Define the Model\n",
    "# model = Sequential([\n",
    "#     Embedding(..., weights=[embedding_matrix], trainable=False),\n",
    "#     LSTM(64),\n",
    "#     Dense(64, activation='relu'),\n",
    "#     Dense(num_classes, activation='softmax')\n",
    "# ])\n",
    "\n",
    "# | Layer             | Purpose                                                            |\n",
    "# | ----------------- | ------------------------------------------------------------------ |\n",
    "# | **Embedding**     | Converts word indices into their 100D vector meanings (from GloVe) |\n",
    "# | **LSTM(64)**      | Reads the word vectors as a sequence and remembers context         |\n",
    "# | **Dense(64)**     | Learns deep patterns from LSTM output                              |\n",
    "# | **Dense(output)** | Outputs 6 numbers = probability of each emotion (via softmax)      |\n",
    "\n",
    "\n",
    "# Step 7: Compile and Train the Model\n",
    "# model.compile(optimizer='adam', loss='sparse_categorical_crossentropy', metrics=['accuracy'])\n",
    "# history = model.fit(...)\n",
    "\n",
    "# sparse_categorical_crossentropy is used because your labels are integers (not one-hot)\n",
    "\n",
    "# Trains for 5 epochs\n",
    "\n",
    "# 🔹 Step 8: Evaluate the Model\n",
    "# test_loss, test_acc = model.evaluate(x_test, np.array(y_test))\n",
    "\n",
    "# 🔹 Step 9: Predict Emotion of New Text\n",
    "# def predict_emotion(text):\n",
    "#     seq = tokenizer.texts_to_sequences([text])\n",
    "#     padded = pad_sequences(seq, maxlen=max_len)\n",
    "#     pred = model.predict(padded)[0]\n",
    "#     label = label_names[np.argmax(pred)]\n",
    "\n",
    "#     Converts input text to token sequence\n",
    "\n",
    "# Pads it to max length (50)\n",
    "\n",
    "# Feeds it to the model\n",
    "\n",
    "# Gets output like:\n",
    "# [0.01, 0.03, 0.92, 0.01, 0.01, 0.02] → 'joy'\n",
    "\n",
    "# 🔮 Final Output Example\n",
    "# predict_emotion(\"I am so happy and excited today!\")\n",
    "\n",
    "# 📝 Text: I am so happy and excited today!\n",
    "# 🎭 Predicted Emotion: joy (Confidence: 0.93)\n"
   ]
  },
  {
   "cell_type": "code",
   "execution_count": null,
   "id": "d0ca7557-15df-4c37-a7c6-e2d4d17cd1a8",
   "metadata": {},
   "outputs": [],
   "source": [
    "# | Layer No. | Layer Type              | Description                                                                              |\n",
    "# | --------- | ----------------------- | ---------------------------------------------------------------------------------------- |\n",
    "# | 1️⃣       | **Embedding**           | Maps each word (by index) to a 100D GloVe vector.                                        |\n",
    "# | 2️⃣       | **LSTM(64)**            | Processes the word vector sequence to capture **temporal context** (word order, memory). |\n",
    "# | 3️⃣       | **Dense(64)**           | Fully connected layer to learn complex features from LSTM output.                        |\n",
    "# | 4️⃣       | **Dense(num\\_classes)** | Final layer to predict probability for each emotion class using **softmax**.             |\n"
   ]
  }
 ],
 "metadata": {
  "kernelspec": {
   "display_name": "Python 3 (ipykernel)",
   "language": "python",
   "name": "python3"
  },
  "language_info": {
   "codemirror_mode": {
    "name": "ipython",
    "version": 3
   },
   "file_extension": ".py",
   "mimetype": "text/x-python",
   "name": "python",
   "nbconvert_exporter": "python",
   "pygments_lexer": "ipython3",
   "version": "3.10.11"
  }
 },
 "nbformat": 4,
 "nbformat_minor": 5
}
