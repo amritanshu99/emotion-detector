{
 "cells": [
  {
   "cell_type": "code",
   "execution_count": 68,
   "id": "6866b9f7-b8cf-4ad1-9f5f-21386773a13c",
   "metadata": {},
   "outputs": [],
   "source": [
    "###########################################\n",
    "# ✅ EMOTION DETECTION PIPELINE (STEP 1 - 4)\n",
    "# Dataset: dair-ai/emotion (from HuggingFace)\n",
    "# Model: LSTM with GloVe Embeddings\n",
    "#############################################\n",
    "\n",
    "# ✅ STEP 0: Install required packages\n",
    "# pip install datasets tensorflow numpy matplotlib\n",
    "\n",
    "from datasets import load_dataset\n",
    "import numpy as np\n",
    "import tensorflow as tf\n",
    "from tensorflow.keras.preprocessing.text import Tokenizer\n",
    "from tensorflow.keras.preprocessing.sequence import pad_sequences\n",
    "from tensorflow.keras.models import Sequential\n",
    "from tensorflow.keras.layers import Embedding, LSTM, Dense\n",
    "import matplotlib.pyplot as plt\n",
    "from collections import Counter\n",
    "import pickle"
   ]
  },
  {
   "cell_type": "code",
   "execution_count": 59,
   "id": "6187a1c0-bdbe-476e-ae88-2719f8ff16ee",
   "metadata": {},
   "outputs": [
    {
     "name": "stdout",
     "output_type": "stream",
     "text": [
      "\n",
      "📥 Loading dataset from Hugging Face...\n"
     ]
    }
   ],
   "source": [
    "# ✅ STEP 1: Load Emotion Dataset\n",
    "print(\"\\n📥 Loading dataset from Hugging Face...\")\n",
    "dataset = load_dataset(\"dair-ai/emotion\")\n",
    "train_ds, val_ds, test_ds = dataset[\"train\"], dataset[\"validation\"], dataset[\"test\"]"
   ]
  },
  {
   "cell_type": "code",
   "execution_count": 60,
   "id": "6c47183e-fdd5-459c-b649-63d27186fb61",
   "metadata": {},
   "outputs": [
    {
     "name": "stdout",
     "output_type": "stream",
     "text": [
      "\n",
      "📌 Example Sample: {'text': 'i didnt feel humiliated', 'label': 0}\n",
      "\n",
      "🎭 Label Names: ['sadness', 'joy', 'love', 'anger', 'fear', 'surprise']\n"
     ]
    }
   ],
   "source": [
    "# Check a sample\n",
    "print(\"\\n📌 Example Sample:\", train_ds[0])\n",
    "print(\"\\n🎭 Label Names:\", dataset[\"train\"].features[\"label\"].names)\n",
    "label_names = dataset[\"train\"].features[\"label\"].names"
   ]
  },
  {
   "cell_type": "code",
   "execution_count": 61,
   "id": "866b3b8f-94eb-4c3c-b192-390b02875d71",
   "metadata": {},
   "outputs": [
    {
     "data": {
      "image/png": "[encoded data removed]",
      "text/plain": [
       "<Figure size 640x480 with 1 Axes>"
      ]
     },
     "metadata": {},
     "output_type": "display_data"
    }
   ],
   "source": [
    "# ✅ STEP 2: Visualize Emotion Distribution\n",
    "labels = [label_names[ex[\"label\"]] for ex in train_ds]\n",
    "count = Counter(labels)\n",
    "plt.bar(count.keys(), count.values())\n",
    "plt.title(\"Label Distribution\")\n",
    "plt.xticks(rotation=45)\n",
    "plt.grid(True)\n",
    "plt.show()\n"
   ]
  },
  {
   "cell_type": "code",
   "execution_count": 62,
   "id": "455eefbd-68e9-4255-a13b-46ef4573e04b",
   "metadata": {},
   "outputs": [
    {
     "name": "stdout",
     "output_type": "stream",
     "text": [
      "\n",
      "🔠 Tokenizing text...\n"
     ]
    }
   ],
   "source": [
    "# ✅ STEP 3: Preprocess Text (Tokenization + Padding)\n",
    "\n",
    "print(\"\\n🔠 Tokenizing text...\")\n",
    "\n",
    "# 📄 Extract raw text from training dataset (used to fit tokenizer)\n",
    "texts = [ex[\"text\"] for ex in train_ds]\n",
    "\n",
    "# 🎯 Extract labels (targets) from each dataset\n",
    "y_train = [ex[\"label\"] for ex in train_ds]\n",
    "y_val = [ex[\"label\"] for ex in val_ds]\n",
    "y_test = [ex[\"label\"] for ex in test_ds]\n"
   ]
  },
  {
   "cell_type": "code",
   "execution_count": 63,
   "id": "bb54dd78-463d-496d-8602-0e99f782f59c",
   "metadata": {},
   "outputs": [],
   "source": [
    "# 🔤 Initialize the tokenizer with an Out-Of-Vocabulary (OOV) token to handle unseen words during inference\n",
    "tokenizer = Tokenizer(oov_token=\"<OOV>\")\n",
    "\n",
    "# 🧠 Learn the word index (vocabulary) from the entire dataset's texts\n",
    "tokenizer.fit_on_texts(texts)\n",
    "\n",
    "# 🔢 Convert the 'text' field from each dataset (train, val, test) into sequences of integers\n",
    "# Each word is replaced by its corresponding index from the tokenizer's word_index\n",
    "x_train_seq = tokenizer.texts_to_sequences([ex[\"text\"] for ex in train_ds])\n",
    "x_val_seq = tokenizer.texts_to_sequences([ex[\"text\"] for ex in val_ds])\n",
    "x_test_seq = tokenizer.texts_to_sequences([ex[\"text\"] for ex in test_ds])\n",
    "\n",
    "# 🧱 Pad all sequences to the same length (max_len)\n",
    "# 'post' padding means zeros are added at the end of the sequence if it's shorter than max_len\n",
    "max_len = 50  # Maximum length of any sequence (truncate or pad to this length)\n",
    "x_train = pad_sequences(x_train_seq, maxlen=max_len, padding='post')\n",
    "x_val = pad_sequences(x_val_seq, maxlen=max_len, padding='post')\n",
    "x_test = pad_sequences(x_test_seq, maxlen=max_len, padding='post')\n",
    "\n"
   ]
  },
  {
   "cell_type": "code",
   "execution_count": 64,
   "id": "c73463bb-54ec-4be0-aafc-a273c74252e7",
   "metadata": {},
   "outputs": [],
   "source": [
    "# 📦 Step 1: Load GloVe pre-trained word embeddings into a dictionary\n",
    "\n",
    "glove_embeddings = {}\n",
    "\n",
    "# 🔁 Open the GloVe file (each line = word + 100-dim vector)\n",
    "with open(\"glove.6B.100d.txt\", encoding='utf-8') as f:\n",
    "    for line in f:\n",
    "        values = line.split()               # ➗ Split line into word + vector parts\n",
    "        word = values[0]                    # 🧠 First item is the actual word\n",
    "        vector = np.asarray(values[1:], dtype='float32')  # Convert remaining 100 numbers to a NumPy array\n",
    "        glove_embeddings[word] = vector     # 📚 Store in dict: {'happy': [...], 'sad': [...], ...}\n",
    "\n",
    "# 🧱 Step 2: Build the embedding matrix (to plug into our Embedding layer)\n",
    "\n",
    "embedding_dim = 100  # Same as GloVe vector size (100D)\n",
    "\n",
    "# 🆕 Create a zero matrix with shape [vocab_size, embedding_dim]\n",
    "# This will later be filled with the GloVe vectors\n",
    "embedding_matrix = np.zeros((vocab_size, embedding_dim))\n",
    "\n",
    "# 🔁 For each word in our tokenizer's vocabulary\n",
    "for word, i in tokenizer.word_index.items():\n",
    "    embedding_vector = glove_embeddings.get(word)  # 🔍 Try to get its pre-trained GloVe vector\n",
    "    if embedding_vector is not None:\n",
    "        embedding_matrix[i] = embedding_vector     # ✅ If found, place it in the matrix at correct index\n",
    "    # ❌ Else, it stays zero — the model will learn it later (or ignore)\n"
   ]
  },
  {
   "cell_type": "code",
   "execution_count": 65,
   "id": "62c703e0-9afa-41f1-afd3-727831e2777c",
   "metadata": {},
   "outputs": [
    {
     "data": {
      "text/html": [
       "<pre style=\"white-space:pre;overflow-x:auto;line-height:normal;font-family:Menlo,'DejaVu Sans Mono',consolas,'Courier New',monospace\"><span style=\"font-weight: bold\">Model: \"sequential_3\"</span>\n",
       "</pre>\n"
      ],
      "text/plain": [
       "\u001b[1mModel: \"sequential_3\"\u001b[0m\n"
      ]
     },
     "metadata": {},
     "output_type": "display_data"
    },
    {
     "data": {
      "text/html": [
       "<pre style=\"white-space:pre;overflow-x:auto;line-height:normal;font-family:Menlo,'DejaVu Sans Mono',consolas,'Courier New',monospace\">┏━━━━━━━━━━━━━━━━━━━━━━━━━━━━━━━━━━━━━━┳━━━━━━━━━━━━━━━━━━━━━━━━━━━━━┳━━━━━━━━━━━━━━━━━┓\n",
       "┃<span style=\"font-weight: bold\"> Layer (type)                         </span>┃<span style=\"font-weight: bold\"> Output Shape                </span>┃<span style=\"font-weight: bold\">         Param # </span>┃\n",
       "┡━━━━━━━━━━━━━━━━━━━━━━━━━━━━━━━━━━━━━━╇━━━━━━━━━━━━━━━━━━━━━━━━━━━━━╇━━━━━━━━━━━━━━━━━┩\n",
       "│ embedding_3 (<span style=\"color: #0087ff; text-decoration-color: #0087ff\">Embedding</span>)              │ ?                           │       <span style=\"color: #00af00; text-decoration-color: #00af00\">1,521,400</span> │\n",
       "├──────────────────────────────────────┼─────────────────────────────┼─────────────────┤\n",
       "│ lstm_3 (<span style=\"color: #0087ff; text-decoration-color: #0087ff\">LSTM</span>)                        │ ?                           │     <span style=\"color: #00af00; text-decoration-color: #00af00\">0</span> (unbuilt) │\n",
       "├──────────────────────────────────────┼─────────────────────────────┼─────────────────┤\n",
       "│ dense_4 (<span style=\"color: #0087ff; text-decoration-color: #0087ff\">Dense</span>)                      │ ?                           │     <span style=\"color: #00af00; text-decoration-color: #00af00\">0</span> (unbuilt) │\n",
       "├──────────────────────────────────────┼─────────────────────────────┼─────────────────┤\n",
       "│ dense_5 (<span style=\"color: #0087ff; text-decoration-color: #0087ff\">Dense</span>)                      │ ?                           │     <span style=\"color: #00af00; text-decoration-color: #00af00\">0</span> (unbuilt) │\n",
       "└──────────────────────────────────────┴─────────────────────────────┴─────────────────┘\n",
       "</pre>\n"
      ],
      "text/plain": [
       "┏━━━━━━━━━━━━━━━━━━━━━━━━━━━━━━━━━━━━━━┳━━━━━━━━━━━━━━━━━━━━━━━━━━━━━┳━━━━━━━━━━━━━━━━━┓\n",
       "┃\u001b[1m \u001b[0m\u001b[1mLayer (type)                        \u001b[0m\u001b[1m \u001b[0m┃\u001b[1m \u001b[0m\u001b[1mOutput Shape               \u001b[0m\u001b[1m \u001b[0m┃\u001b[1m \u001b[0m\u001b[1m        Param #\u001b[0m\u001b[1m \u001b[0m┃\n",
       "┡━━━━━━━━━━━━━━━━━━━━━━━━━━━━━━━━━━━━━━╇━━━━━━━━━━━━━━━━━━━━━━━━━━━━━╇━━━━━━━━━━━━━━━━━┩\n",
       "│ embedding_3 (\u001b[38;5;33mEmbedding\u001b[0m)              │ ?                           │       \u001b[38;5;34m1,521,400\u001b[0m │\n",
       "├──────────────────────────────────────┼─────────────────────────────┼─────────────────┤\n",
       "│ lstm_3 (\u001b[38;5;33mLSTM\u001b[0m)                        │ ?                           │     \u001b[38;5;34m0\u001b[0m (unbuilt) │\n",
       "├──────────────────────────────────────┼─────────────────────────────┼─────────────────┤\n",
       "│ dense_4 (\u001b[38;5;33mDense\u001b[0m)                      │ ?                           │     \u001b[38;5;34m0\u001b[0m (unbuilt) │\n",
       "├──────────────────────────────────────┼─────────────────────────────┼─────────────────┤\n",
       "│ dense_5 (\u001b[38;5;33mDense\u001b[0m)                      │ ?                           │     \u001b[38;5;34m0\u001b[0m (unbuilt) │\n",
       "└──────────────────────────────────────┴─────────────────────────────┴─────────────────┘\n"
      ]
     },
     "metadata": {},
     "output_type": "display_data"
    },
    {
     "data": {
      "text/html": [
       "<pre style=\"white-space:pre;overflow-x:auto;line-height:normal;font-family:Menlo,'DejaVu Sans Mono',consolas,'Courier New',monospace\"><span style=\"font-weight: bold\"> Total params: </span><span style=\"color: #00af00; text-decoration-color: #00af00\">1,521,400</span> (5.80 MB)\n",
       "</pre>\n"
      ],
      "text/plain": [
       "\u001b[1m Total params: \u001b[0m\u001b[38;5;34m1,521,400\u001b[0m (5.80 MB)\n"
      ]
     },
     "metadata": {},
     "output_type": "display_data"
    },
    {
     "data": {
      "text/html": [
       "<pre style=\"white-space:pre;overflow-x:auto;line-height:normal;font-family:Menlo,'DejaVu Sans Mono',consolas,'Courier New',monospace\"><span style=\"font-weight: bold\"> Trainable params: </span><span style=\"color: #00af00; text-decoration-color: #00af00\">0</span> (0.00 B)\n",
       "</pre>\n"
      ],
      "text/plain": [
       "\u001b[1m Trainable params: \u001b[0m\u001b[38;5;34m0\u001b[0m (0.00 B)\n"
      ]
     },
     "metadata": {},
     "output_type": "display_data"
    },
    {
     "data": {
      "text/html": [
       "<pre style=\"white-space:pre;overflow-x:auto;line-height:normal;font-family:Menlo,'DejaVu Sans Mono',consolas,'Courier New',monospace\"><span style=\"font-weight: bold\"> Non-trainable params: </span><span style=\"color: #00af00; text-decoration-color: #00af00\">1,521,400</span> (5.80 MB)\n",
       "</pre>\n"
      ],
      "text/plain": [
       "\u001b[1m Non-trainable params: \u001b[0m\u001b[38;5;34m1,521,400\u001b[0m (5.80 MB)\n"
      ]
     },
     "metadata": {},
     "output_type": "display_data"
    }
   ],
   "source": [
    "# ✅ Define Model Architecture\n",
    "model = Sequential([\n",
    "    Embedding(input_dim=vocab_size,\n",
    "              output_dim=embedding_dim,\n",
    "              weights=[embedding_matrix],\n",
    "              input_length=max_len,\n",
    "              trainable=False),  # Freeze embeddings\n",
    "    LSTM(64),\n",
    "    Dense(64, activation='relu'),\n",
    "    Dense(num_classes, activation='softmax')  # Softmax for multiclass output\n",
    "])\n",
    "\n",
    "model.compile(optimizer='adam', loss='sparse_categorical_crossentropy', metrics=['accuracy'])\n",
    "model.summary()"
   ]
  },
  {
   "cell_type": "code",
   "execution_count": 66,
   "id": "cba82d50-b373-49f8-b73b-8810ddf4d694",
   "metadata": {},
   "outputs": [
    {
     "name": "stdout",
     "output_type": "stream",
     "text": [
      "\n",
      "🚀 Training...\n",
      "Epoch 1/5\n",
      "\u001b[1m250/250\u001b[0m \u001b[32m━━━━━━━━━━━━━━━━━━━━\u001b[0m\u001b[37m\u001b[0m \u001b[1m13s\u001b[0m 43ms/step - accuracy: 0.3217 - loss: 1.6375 - val_accuracy: 0.3495 - val_loss: 1.5853\n",
      "Epoch 2/5\n",
      "\u001b[1m250/250\u001b[0m \u001b[32m━━━━━━━━━━━━━━━━━━━━\u001b[0m\u001b[37m\u001b[0m \u001b[1m10s\u001b[0m 41ms/step - accuracy: 0.3218 - loss: 1.5810 - val_accuracy: 0.3510 - val_loss: 1.5817\n",
      "Epoch 3/5\n",
      "\u001b[1m250/250\u001b[0m \u001b[32m━━━━━━━━━━━━━━━━━━━━\u001b[0m\u001b[37m\u001b[0m \u001b[1m12s\u001b[0m 48ms/step - accuracy: 0.3387 - loss: 1.5779 - val_accuracy: 0.3765 - val_loss: 1.5518\n",
      "Epoch 4/5\n",
      "\u001b[1m250/250\u001b[0m \u001b[32m━━━━━━━━━━━━━━━━━━━━\u001b[0m\u001b[37m\u001b[0m \u001b[1m13s\u001b[0m 52ms/step - accuracy: 0.4649 - loss: 1.4553 - val_accuracy: 0.5325 - val_loss: 1.2966\n",
      "Epoch 5/5\n",
      "\u001b[1m250/250\u001b[0m \u001b[32m━━━━━━━━━━━━━━━━━━━━\u001b[0m\u001b[37m\u001b[0m \u001b[1m14s\u001b[0m 55ms/step - accuracy: 0.5356 - loss: 1.2865 - val_accuracy: 0.5610 - val_loss: 1.1543\n",
      "\n",
      "📊 Evaluating on test set:\n",
      "\u001b[1m63/63\u001b[0m \u001b[32m━━━━━━━━━━━━━━━━━━━━\u001b[0m\u001b[37m\u001b[0m \u001b[1m1s\u001b[0m 17ms/step - accuracy: 0.5476 - loss: 1.1521\n",
      "Test Accuracy: 0.57\n"
     ]
    }
   ],
   "source": [
    "# ✅ Train the model\n",
    "print(\"\\n🚀 Training...\")\n",
    "history = model.fit(x_train, np.array(y_train),\n",
    "                    validation_data=(x_val, np.array(y_val)),\n",
    "                    epochs=5, batch_size=64)\n",
    "\n",
    "# ✅ Evaluate on test set\n",
    "print(\"\\n📊 Evaluating on test set:\")\n",
    "test_loss, test_acc = model.evaluate(x_test, np.array(y_test))\n",
    "print(f\"Test Accuracy: {test_acc:.2f}\")\n"
   ]
  },
  {
   "cell_type": "code",
   "execution_count": 67,
   "id": "eccd94de-c840-4d41-b2a5-6247852cab13",
   "metadata": {},
   "outputs": [
    {
     "name": "stdout",
     "output_type": "stream",
     "text": [
      "\u001b[1m1/1\u001b[0m \u001b[32m━━━━━━━━━━━━━━━━━━━━\u001b[0m\u001b[37m\u001b[0m \u001b[1m0s\u001b[0m 451ms/step\n",
      "\n",
      "📝 Text: I am so happy and excited today!\n",
      "🎭 Predicted Emotion: joy (Confidence: 0.58)\n",
      "\u001b[1m1/1\u001b[0m \u001b[32m━━━━━━━━━━━━━━━━━━━━\u001b[0m\u001b[37m\u001b[0m \u001b[1m0s\u001b[0m 67ms/step\n",
      "\n",
      "📝 Text: This is the worst day ever, I am angry!\n",
      "🎭 Predicted Emotion: sadness (Confidence: 0.44)\n"
     ]
    }
   ],
   "source": [
    "# ✅ Predict a sample\n",
    "def predict_emotion(text):\n",
    "    seq = tokenizer.texts_to_sequences([text])\n",
    "    padded = pad_sequences(seq, maxlen=max_len)\n",
    "    pred = model.predict(padded)[0]\n",
    "    label = label_names[np.argmax(pred)]\n",
    "    print(f\"\\n📝 Text: {text}\\n🎭 Predicted Emotion: {label} (Confidence: {np.max(pred):.2f})\")\n",
    "\n",
    "# Try prediction\n",
    "predict_emotion(\"I am so happy and excited today!\")\n",
    "predict_emotion(\"This is the worst day ever, I am angry!\")\n"
   ]
  },
  {
   "cell_type": "code",
   "execution_count": null,
   "id": "4eb5d1c2-f242-48f6-ab51-0d461901f953",
   "metadata": {},
   "outputs": [],
   "source": [
    "# | Step | Description                           |\n",
    "# | ---- | ------------------------------------- |\n",
    "# | 1    | Load & explore labeled tweets dataset |\n",
    "# | 2    | Tokenize words → integers             |\n",
    "# | 3    | Load GloVe embeddings (100D)          |\n",
    "# | 4    | Build embedding matrix                |\n",
    "# | 5    | Create LSTM model using embeddings    |\n",
    "# | 6    | Train & evaluate                      |\n",
    "# | 7    | Predict emotion from any new text     |\n"
   ]
  },
  {
   "cell_type": "code",
   "execution_count": 57,
   "id": "d7a9b9da-0d93-4306-a650-e4475b2bc663",
   "metadata": {},
   "outputs": [
    {
     "ename": "SyntaxError",
     "evalue": "invalid syntax (2473639437.py, line 1)",
     "output_type": "error",
     "traceback": [
      "\u001b[1;36m  Cell \u001b[1;32mIn[57], line 1\u001b[1;36m\u001b[0m\n\u001b[1;33m    Step 1: Load Dataset\u001b[0m\n\u001b[1;37m         ^\u001b[0m\n\u001b[1;31mSyntaxError\u001b[0m\u001b[1;31m:\u001b[0m invalid syntax\n"
     ]
    }
   ],
   "source": [
    "#  Step 1: Load Dataset\n",
    "# dataset = load_dataset(\"dair-ai/emotion\")\n",
    "# train_ds, val_ds, test_ds = dataset[\"train\"], dataset[\"validation\"], dataset[\"test\"]\n",
    "# We load a dataset of tweets labeled with 6 emotions:\n",
    "\n",
    "# 'sadness', 'joy', 'love', 'anger', 'fear', 'surprise'\n",
    "\n",
    "# It returns 3 parts: train_ds, val_ds, test_ds (for training, validation, and testing)\n",
    "\n",
    "# 📌 Example sample:\n",
    "# {'text': \"i'm feeling quite sad and depressed\", 'label': 0}\n",
    "\n",
    "#     🔹 Step 2: Explore the Dataset\n",
    "# labels = [label_names[ex[\"label\"]] for ex in train_ds]\n",
    "# Extracts the label names from all training samples.\n",
    "\n",
    "# Then uses Counter() + matplotlib to plot the distribution of emotions.\n",
    "\n",
    "# 📊 Helps you know how balanced the dataset is.\n",
    "\n",
    "#     🔹 Step 3: Tokenize and Pad Texts\n",
    "# tokenizer = Tokenizer(oov_token=\"<OOV>\")\n",
    "# tokenizer.fit_on_texts(texts)\n",
    "# Creates a word-to-index mapping:\n",
    "# e.g., \"happy\" → 57, \"love\" → 89\n",
    "\n",
    "# <OOV> means \"out of vocabulary\" — used for unknown words\n",
    "\n",
    "# Then we convert text to sequences of numbers:\n",
    "# x_train_seq = tokenizer.texts_to_sequences(...)\n",
    "# x_train = pad_sequences(x_train_seq, maxlen=50)\n",
    "# Converts:\n",
    "# \"I am sad today\" → [1, 6, 57, 22] → [1, 6, 57, 22, 0, 0, ..., 0] (padded to 50)\n",
    "# This ensures all input texts are same length for training\n",
    "# Step 4: Load GloVe Word Embeddings\n",
    "# with open(\"glove.6B.100d.txt\") as f:\n",
    "#     glove_embeddings[word] = vector\n",
    "\n",
    "# Loads 400,000 English words, each mapped to a 100-dimensional vector\n",
    "\n",
    "# Example:\n",
    "# \"happy\" → [0.12, -0.44, ..., 0.27]\n",
    "# These vectors capture meaning and relationships between words\n",
    "# Step 5: Build the Embedding Matrix\n",
    "# embedding_matrix = np.zeros((vocab_size, 100))\n",
    "# for word, i in tokenizer.word_index.items():\n",
    "#     embedding_matrix[i] = glove_embeddings.get(word)\n",
    "\n",
    "# Maps each word in our dataset to its GloVe vector\n",
    "\n",
    "# If GloVe has no vector, it stays as zeros\n",
    "\n",
    "# 📘 Why? So our model uses semantic meaning of words from the start, instead of learning them from scratch.\n",
    "\n",
    "# 🔹 Step 6: Define the Model\n",
    "# model = Sequential([\n",
    "#     Embedding(..., weights=[embedding_matrix], trainable=False),\n",
    "#     LSTM(64),\n",
    "#     Dense(64, activation='relu'),\n",
    "#     Dense(num_classes, activation='softmax')\n",
    "# ])\n",
    "\n",
    "# | Layer             | Purpose                                                            |\n",
    "# | ----------------- | ------------------------------------------------------------------ |\n",
    "# | **Embedding**     | Converts word indices into their 100D vector meanings (from GloVe) |\n",
    "# | **LSTM(64)**      | Reads the word vectors as a sequence and remembers context         |\n",
    "# | **Dense(64)**     | Learns deep patterns from LSTM output                              |\n",
    "# | **Dense(output)** | Outputs 6 numbers = probability of each emotion (via softmax)      |\n",
    "\n",
    "\n",
    "# Step 7: Compile and Train the Model\n",
    "# model.compile(optimizer='adam', loss='sparse_categorical_crossentropy', metrics=['accuracy'])\n",
    "# history = model.fit(...)\n",
    "\n",
    "# sparse_categorical_crossentropy is used because your labels are integers (not one-hot)\n",
    "\n",
    "# Trains for 5 epochs\n",
    "\n",
    "# 🔹 Step 8: Evaluate the Model\n",
    "# test_loss, test_acc = model.evaluate(x_test, np.array(y_test))\n",
    "\n",
    "# 🔹 Step 9: Predict Emotion of New Text\n",
    "# def predict_emotion(text):\n",
    "#     seq = tokenizer.texts_to_sequences([text])\n",
    "#     padded = pad_sequences(seq, maxlen=max_len)\n",
    "#     pred = model.predict(padded)[0]\n",
    "#     label = label_names[np.argmax(pred)]\n",
    "\n",
    "#     Converts input text to token sequence\n",
    "\n",
    "# Pads it to max length (50)\n",
    "\n",
    "# Feeds it to the model\n",
    "\n",
    "# Gets output like:\n",
    "# [0.01, 0.03, 0.92, 0.01, 0.01, 0.02] → 'joy'\n",
    "\n",
    "# 🔮 Final Output Example\n",
    "# predict_emotion(\"I am so happy and excited today!\")\n",
    "\n",
    "# 📝 Text: I am so happy and excited today!\n",
    "# 🎭 Predicted Emotion: joy (Confidence: 0.93)\n"
   ]
  },
  {
   "cell_type": "code",
   "execution_count": null,
   "id": "d0ca7557-15df-4c37-a7c6-e2d4d17cd1a8",
   "metadata": {},
   "outputs": [],
   "source": [
    "# | Layer No. | Layer Type              | Description                                                                              |\n",
    "# | --------- | ----------------------- | ---------------------------------------------------------------------------------------- |\n",
    "# | 1️⃣       | **Embedding**           | Maps each word (by index) to a 100D GloVe vector.                                        |\n",
    "# | 2️⃣       | **LSTM(64)**            | Processes the word vector sequence to capture **temporal context** (word order, memory). |\n",
    "# | 3️⃣       | **Dense(64)**           | Fully connected layer to learn complex features from LSTM output.                        |\n",
    "# | 4️⃣       | **Dense(num\\_classes)** | Final layer to predict probability for each emotion class using **softmax**.             |\n"
   ]
  }
 ],
 "metadata": {
  "kernelspec": {
   "display_name": "Python 3 (ipykernel)",
   "language": "python",
   "name": "python3"
  },
  "language_info": {
   "codemirror_mode": {
    "name": "ipython",
    "version": 3
   },
   "file_extension": ".py",
   "mimetype": "text/x-python",
   "name": "python",
   "nbconvert_exporter": "python",
   "pygments_lexer": "ipython3",
   "version": "3.10.11"
  }
 },
 "nbformat": 4,
 "nbformat_minor": 5
}
